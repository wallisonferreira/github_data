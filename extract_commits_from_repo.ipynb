{
  "nbformat": 4,
  "nbformat_minor": 0,
  "metadata": {
    "colab": {
      "name": "github_data_extraction.ipynb",
      "provenance": [],
      "collapsed_sections": [],
      "mount_file_id": "1rg0YtXrlpLSN26UL1q73MMmgI8il9lTl",
      "authorship_tag": "ABX9TyMf0wclPK9KDfQYZbvI/JLc",
      "include_colab_link": true
    },
    "kernelspec": {
      "name": "python3",
      "display_name": "Python 3"
    },
    "language_info": {
      "name": "python"
    }
  },
  "cells": [
    {
      "cell_type": "markdown",
      "metadata": {
        "id": "view-in-github",
        "colab_type": "text"
      },
      "source": [
        "<a href=\"https://colab.research.google.com/github/wallisonferreira/github_data/blob/master/extract_commits_from_repo.ipynb\" target=\"_parent\"><img src=\"https://colab.research.google.com/assets/colab-badge.svg\" alt=\"Open In Colab\"/></a>"
      ]
    },
    {
      "cell_type": "markdown",
      "metadata": {
        "id": "dwW6A-LCt4jG"
      },
      "source": [
        "#####Mount the drive"
      ]
    },
    {
      "cell_type": "code",
      "metadata": {
        "id": "6SKFWcdAt2dw"
      },
      "source": [
        "from google.colab import drive\n",
        "drive.mount('/content/drive')"
      ],
      "execution_count": null,
      "outputs": []
    },
    {
      "cell_type": "markdown",
      "metadata": {
        "id": "839M9VbcVzMJ"
      },
      "source": [
        "#####Invite people for the party"
      ]
    },
    {
      "cell_type": "code",
      "metadata": {
        "id": "5EUWLmbXVua6"
      },
      "source": [
        "import json\n",
        "import requests\n",
        "from pandas.io.json import json_normalize\n",
        "import pandas as pd\n",
        "import numpy as np\n",
        "import sys\n",
        "sys.path.insert(1, '/content/drive/MyDrive/JupyterNotebooks/JupyterEnviroments/JupyterConfig')\n",
        "import config"
      ],
      "execution_count": 1,
      "outputs": []
    },
    {
      "cell_type": "markdown",
      "metadata": {
        "id": "x15hexfKTvCO"
      },
      "source": [
        "#####Creating a session"
      ]
    },
    {
      "cell_type": "code",
      "metadata": {
        "id": "EX-1NZzMTKco"
      },
      "source": [
        "gh_api = 'https://api.github.com'\n",
        "gh_session = requests.Session()\n",
        "gh_session.auth = (\n",
        "    config.github_client['name'],\n",
        "    config.github_client['access_token']\n",
        ")"
      ],
      "execution_count": 31,
      "outputs": []
    },
    {
      "cell_type": "markdown",
      "metadata": {
        "id": "gYMjgX1LUC29"
      },
      "source": [
        "#####Obtain repos information"
      ]
    },
    {
      "cell_type": "code",
      "metadata": {
        "id": "qHo71x3FuaQv"
      },
      "source": [
        "url = gh_api + \"/repos/apache/spark/commits\"\n",
        "commits = gh_session.get(url=url)\n",
        "commits_json = commits.json()"
      ],
      "execution_count": 15,
      "outputs": []
    },
    {
      "cell_type": "code",
      "metadata": {
        "id": "qoKC5nzNy5c6"
      },
      "source": [
        "def commits_of_repo_github(repo, owner, api):\n",
        "    commits = []\n",
        "    next = True\n",
        "    i = 1\n",
        "    while next == True:\n",
        "        url = api + '/repos/{}/{}/commits?page={}&per_page=100'.format(owner, repo, i)\n",
        "        commit_pg = gh_session.get(url = url)\n",
        "        commit_pg_list = [dict(item, **{'repo_name':'{}'.format(repo)}) for item in commit_pg.json()]    \n",
        "        commit_pg_list = [dict(item, **{'owner':'{}'.format(owner)}) for item in commit_pg_list]\n",
        "        commits = commits + commit_pg_list\n",
        "        if 'Link' in commit_pg.headers:\n",
        "            if 'rel=\"next\"' not in commit_pg.headers['Link']:\n",
        "                next = False\n",
        "        i = i + 1\n",
        "    return commits"
      ],
      "execution_count": 36,
      "outputs": []
    },
    {
      "cell_type": "code",
      "metadata": {
        "id": "Gg6vpmIe6o8p"
      },
      "source": [
        "def create_commits_df(repo, owner, api):\n",
        "    commits_list = commits_of_repo_github(repo, owner, api)\n",
        "    return json_normalize(commits_list)"
      ],
      "execution_count": 37,
      "outputs": []
    },
    {
      "cell_type": "code",
      "metadata": {
        "id": "-kIXXFGi690p"
      },
      "source": [
        "commits_df = create_commits_df(\"spark\", \"apache\", gh_api)"
      ],
      "execution_count": null,
      "outputs": []
    },
    {
      "cell_type": "code",
      "metadata": {
        "id": "tZMX0pthDrdv"
      },
      "source": [
        "commits_df.to_csv('/content/drive/MyDrive/GithubAnalysis/ApacheSpark/commits.csv')"
      ],
      "execution_count": 42,
      "outputs": []
    },
    {
      "cell_type": "code",
      "metadata": {
        "colab": {
          "base_uri": "https://localhost:8080/"
        },
        "id": "mX0zNTGxHihN",
        "outputId": "77221c87-b194-4d3e-f63a-2c814907bc21"
      },
      "source": [
        "list(commits_df.columns)[0:10]"
      ],
      "execution_count": 63,
      "outputs": [
        {
          "output_type": "execute_result",
          "data": {
            "text/plain": [
              "['sha',\n",
              " 'node_id',\n",
              " 'url',\n",
              " 'html_url',\n",
              " 'comments_url',\n",
              " 'parents',\n",
              " 'repo_name',\n",
              " 'owner',\n",
              " 'commit.author.name',\n",
              " 'commit.author.email']"
            ]
          },
          "metadata": {
            "tags": []
          },
          "execution_count": 63
        }
      ]
    },
    {
      "cell_type": "code",
      "metadata": {
        "colab": {
          "base_uri": "https://localhost:8080/",
          "height": 394
        },
        "id": "bwYI_4iKIw0r",
        "outputId": "466b1bbc-e097-4ca1-c37d-71933896f54f"
      },
      "source": [
        "commits_df.head()"
      ],
      "execution_count": 47,
      "outputs": [
        {
          "output_type": "execute_result",
          "data": {
            "text/html": [
              "<div>\n",
              "<style scoped>\n",
              "    .dataframe tbody tr th:only-of-type {\n",
              "        vertical-align: middle;\n",
              "    }\n",
              "\n",
              "    .dataframe tbody tr th {\n",
              "        vertical-align: top;\n",
              "    }\n",
              "\n",
              "    .dataframe thead th {\n",
              "        text-align: right;\n",
              "    }\n",
              "</style>\n",
              "<table border=\"1\" class=\"dataframe\">\n",
              "  <thead>\n",
              "    <tr style=\"text-align: right;\">\n",
              "      <th></th>\n",
              "      <th>sha</th>\n",
              "      <th>node_id</th>\n",
              "      <th>url</th>\n",
              "      <th>html_url</th>\n",
              "      <th>comments_url</th>\n",
              "      <th>parents</th>\n",
              "      <th>repo_name</th>\n",
              "      <th>owner</th>\n",
              "      <th>commit.author.name</th>\n",
              "      <th>commit.author.email</th>\n",
              "      <th>commit.author.date</th>\n",
              "      <th>commit.committer.name</th>\n",
              "      <th>commit.committer.email</th>\n",
              "      <th>commit.committer.date</th>\n",
              "      <th>commit.message</th>\n",
              "      <th>commit.tree.sha</th>\n",
              "      <th>commit.tree.url</th>\n",
              "      <th>commit.url</th>\n",
              "      <th>commit.comment_count</th>\n",
              "      <th>commit.verification.verified</th>\n",
              "      <th>commit.verification.reason</th>\n",
              "      <th>commit.verification.signature</th>\n",
              "      <th>commit.verification.payload</th>\n",
              "      <th>author.login</th>\n",
              "      <th>author.id</th>\n",
              "      <th>author.node_id</th>\n",
              "      <th>author.avatar_url</th>\n",
              "      <th>author.gravatar_id</th>\n",
              "      <th>author.url</th>\n",
              "      <th>author.html_url</th>\n",
              "      <th>author.followers_url</th>\n",
              "      <th>author.following_url</th>\n",
              "      <th>author.gists_url</th>\n",
              "      <th>author.starred_url</th>\n",
              "      <th>author.subscriptions_url</th>\n",
              "      <th>author.organizations_url</th>\n",
              "      <th>author.repos_url</th>\n",
              "      <th>author.events_url</th>\n",
              "      <th>author.received_events_url</th>\n",
              "      <th>author.type</th>\n",
              "      <th>author.site_admin</th>\n",
              "      <th>committer.login</th>\n",
              "      <th>committer.id</th>\n",
              "      <th>committer.node_id</th>\n",
              "      <th>committer.avatar_url</th>\n",
              "      <th>committer.gravatar_id</th>\n",
              "      <th>committer.url</th>\n",
              "      <th>committer.html_url</th>\n",
              "      <th>committer.followers_url</th>\n",
              "      <th>committer.following_url</th>\n",
              "      <th>committer.gists_url</th>\n",
              "      <th>committer.starred_url</th>\n",
              "      <th>committer.subscriptions_url</th>\n",
              "      <th>committer.organizations_url</th>\n",
              "      <th>committer.repos_url</th>\n",
              "      <th>committer.events_url</th>\n",
              "      <th>committer.received_events_url</th>\n",
              "      <th>committer.type</th>\n",
              "      <th>committer.site_admin</th>\n",
              "      <th>committer</th>\n",
              "      <th>author</th>\n",
              "    </tr>\n",
              "  </thead>\n",
              "  <tbody>\n",
              "    <tr>\n",
              "      <th>0</th>\n",
              "      <td>b2a2b5d8206b7c09b180b8b6363f73c6c3fdb1d8</td>\n",
              "      <td>MDY6Q29tbWl0MTcxNjU2NTg6YjJhMmI1ZDgyMDZiN2MwOW...</td>\n",
              "      <td>https://api.github.com/repos/apache/spark/comm...</td>\n",
              "      <td>https://github.com/apache/spark/commit/b2a2b5d...</td>\n",
              "      <td>https://api.github.com/repos/apache/spark/comm...</td>\n",
              "      <td>[{'sha': 'a9345a05911b8620387b36023ddc6525ed1a...</td>\n",
              "      <td>spark</td>\n",
              "      <td>apache</td>\n",
              "      <td>Liang-Chi Hsieh</td>\n",
              "      <td>viirya@gmail.com</td>\n",
              "      <td>2021-04-23T20:56:53Z</td>\n",
              "      <td>Liang-Chi Hsieh</td>\n",
              "      <td>viirya@gmail.com</td>\n",
              "      <td>2021-04-23T20:56:53Z</td>\n",
              "      <td>[SPARK-34297][SQL][SS] Add metrics for data lo...</td>\n",
              "      <td>1742b3a2568af2fabdf6b187d207697d29753fb8</td>\n",
              "      <td>https://api.github.com/repos/apache/spark/git/...</td>\n",
              "      <td>https://api.github.com/repos/apache/spark/git/...</td>\n",
              "      <td>0</td>\n",
              "      <td>False</td>\n",
              "      <td>unsigned</td>\n",
              "      <td>None</td>\n",
              "      <td>None</td>\n",
              "      <td>viirya</td>\n",
              "      <td>68855.0</td>\n",
              "      <td>MDQ6VXNlcjY4ODU1</td>\n",
              "      <td>https://avatars.githubusercontent.com/u/68855?v=4</td>\n",
              "      <td></td>\n",
              "      <td>https://api.github.com/users/viirya</td>\n",
              "      <td>https://github.com/viirya</td>\n",
              "      <td>https://api.github.com/users/viirya/followers</td>\n",
              "      <td>https://api.github.com/users/viirya/following{...</td>\n",
              "      <td>https://api.github.com/users/viirya/gists{/gis...</td>\n",
              "      <td>https://api.github.com/users/viirya/starred{/o...</td>\n",
              "      <td>https://api.github.com/users/viirya/subscriptions</td>\n",
              "      <td>https://api.github.com/users/viirya/orgs</td>\n",
              "      <td>https://api.github.com/users/viirya/repos</td>\n",
              "      <td>https://api.github.com/users/viirya/events{/pr...</td>\n",
              "      <td>https://api.github.com/users/viirya/received_e...</td>\n",
              "      <td>User</td>\n",
              "      <td>False</td>\n",
              "      <td>viirya</td>\n",
              "      <td>68855.0</td>\n",
              "      <td>MDQ6VXNlcjY4ODU1</td>\n",
              "      <td>https://avatars.githubusercontent.com/u/68855?v=4</td>\n",
              "      <td></td>\n",
              "      <td>https://api.github.com/users/viirya</td>\n",
              "      <td>https://github.com/viirya</td>\n",
              "      <td>https://api.github.com/users/viirya/followers</td>\n",
              "      <td>https://api.github.com/users/viirya/following{...</td>\n",
              "      <td>https://api.github.com/users/viirya/gists{/gis...</td>\n",
              "      <td>https://api.github.com/users/viirya/starred{/o...</td>\n",
              "      <td>https://api.github.com/users/viirya/subscriptions</td>\n",
              "      <td>https://api.github.com/users/viirya/orgs</td>\n",
              "      <td>https://api.github.com/users/viirya/repos</td>\n",
              "      <td>https://api.github.com/users/viirya/events{/pr...</td>\n",
              "      <td>https://api.github.com/users/viirya/received_e...</td>\n",
              "      <td>User</td>\n",
              "      <td>False</td>\n",
              "      <td>NaN</td>\n",
              "      <td>NaN</td>\n",
              "    </tr>\n",
              "    <tr>\n",
              "      <th>1</th>\n",
              "      <td>a9345a05911b8620387b36023ddc6525ed1a508c</td>\n",
              "      <td>MDY6Q29tbWl0MTcxNjU2NTg6YTkzNDVhMDU5MTFiODYyMD...</td>\n",
              "      <td>https://api.github.com/repos/apache/spark/comm...</td>\n",
              "      <td>https://github.com/apache/spark/commit/a9345a0...</td>\n",
              "      <td>https://api.github.com/repos/apache/spark/comm...</td>\n",
              "      <td>[{'sha': 'e503b9c462676c381ba51ad48edd968d6e18...</td>\n",
              "      <td>spark</td>\n",
              "      <td>apache</td>\n",
              "      <td>Wenchen Fan</td>\n",
              "      <td>wenchen@databricks.com</td>\n",
              "      <td>2021-04-23T16:21:43Z</td>\n",
              "      <td>Max Gekk</td>\n",
              "      <td>max.gekk@gmail.com</td>\n",
              "      <td>2021-04-23T16:21:43Z</td>\n",
              "      <td>[SPARK-35204][SQL] CatalystTypeConverters of d...</td>\n",
              "      <td>6ad693a2a6d595867bac6721dc8b699d14acf5ff</td>\n",
              "      <td>https://api.github.com/repos/apache/spark/git/...</td>\n",
              "      <td>https://api.github.com/repos/apache/spark/git/...</td>\n",
              "      <td>0</td>\n",
              "      <td>False</td>\n",
              "      <td>unsigned</td>\n",
              "      <td>None</td>\n",
              "      <td>None</td>\n",
              "      <td>cloud-fan</td>\n",
              "      <td>3182036.0</td>\n",
              "      <td>MDQ6VXNlcjMxODIwMzY=</td>\n",
              "      <td>https://avatars.githubusercontent.com/u/318203...</td>\n",
              "      <td></td>\n",
              "      <td>https://api.github.com/users/cloud-fan</td>\n",
              "      <td>https://github.com/cloud-fan</td>\n",
              "      <td>https://api.github.com/users/cloud-fan/followers</td>\n",
              "      <td>https://api.github.com/users/cloud-fan/followi...</td>\n",
              "      <td>https://api.github.com/users/cloud-fan/gists{/...</td>\n",
              "      <td>https://api.github.com/users/cloud-fan/starred...</td>\n",
              "      <td>https://api.github.com/users/cloud-fan/subscri...</td>\n",
              "      <td>https://api.github.com/users/cloud-fan/orgs</td>\n",
              "      <td>https://api.github.com/users/cloud-fan/repos</td>\n",
              "      <td>https://api.github.com/users/cloud-fan/events{...</td>\n",
              "      <td>https://api.github.com/users/cloud-fan/receive...</td>\n",
              "      <td>User</td>\n",
              "      <td>False</td>\n",
              "      <td>MaxGekk</td>\n",
              "      <td>1580697.0</td>\n",
              "      <td>MDQ6VXNlcjE1ODA2OTc=</td>\n",
              "      <td>https://avatars.githubusercontent.com/u/158069...</td>\n",
              "      <td></td>\n",
              "      <td>https://api.github.com/users/MaxGekk</td>\n",
              "      <td>https://github.com/MaxGekk</td>\n",
              "      <td>https://api.github.com/users/MaxGekk/followers</td>\n",
              "      <td>https://api.github.com/users/MaxGekk/following...</td>\n",
              "      <td>https://api.github.com/users/MaxGekk/gists{/gi...</td>\n",
              "      <td>https://api.github.com/users/MaxGekk/starred{/...</td>\n",
              "      <td>https://api.github.com/users/MaxGekk/subscript...</td>\n",
              "      <td>https://api.github.com/users/MaxGekk/orgs</td>\n",
              "      <td>https://api.github.com/users/MaxGekk/repos</td>\n",
              "      <td>https://api.github.com/users/MaxGekk/events{/p...</td>\n",
              "      <td>https://api.github.com/users/MaxGekk/received_...</td>\n",
              "      <td>User</td>\n",
              "      <td>False</td>\n",
              "      <td>NaN</td>\n",
              "      <td>NaN</td>\n",
              "    </tr>\n",
              "    <tr>\n",
              "      <th>2</th>\n",
              "      <td>e503b9c462676c381ba51ad48edd968d6e184fc2</td>\n",
              "      <td>MDY6Q29tbWl0MTcxNjU2NTg6ZTUwM2I5YzQ2MjY3NmMzOD...</td>\n",
              "      <td>https://api.github.com/repos/apache/spark/comm...</td>\n",
              "      <td>https://github.com/apache/spark/commit/e503b9c...</td>\n",
              "      <td>https://api.github.com/repos/apache/spark/comm...</td>\n",
              "      <td>[{'sha': '9af338cd685bce26abbc2dd4d077bde50681...</td>\n",
              "      <td>spark</td>\n",
              "      <td>apache</td>\n",
              "      <td>Angerszhuuuu</td>\n",
              "      <td>angers.zhu@gmail.com</td>\n",
              "      <td>2021-04-23T12:23:28Z</td>\n",
              "      <td>Takeshi Yamamuro</td>\n",
              "      <td>yamamuro@apache.org</td>\n",
              "      <td>2021-04-23T12:23:28Z</td>\n",
              "      <td>[SPARK-35201][SQL] Format empty grouping set e...</td>\n",
              "      <td>845860905bdcdd8a286339f73a26515a4e3d1df4</td>\n",
              "      <td>https://api.github.com/repos/apache/spark/git/...</td>\n",
              "      <td>https://api.github.com/repos/apache/spark/git/...</td>\n",
              "      <td>0</td>\n",
              "      <td>False</td>\n",
              "      <td>unsigned</td>\n",
              "      <td>None</td>\n",
              "      <td>None</td>\n",
              "      <td>AngersZhuuuu</td>\n",
              "      <td>46485123.0</td>\n",
              "      <td>MDQ6VXNlcjQ2NDg1MTIz</td>\n",
              "      <td>https://avatars.githubusercontent.com/u/464851...</td>\n",
              "      <td></td>\n",
              "      <td>https://api.github.com/users/AngersZhuuuu</td>\n",
              "      <td>https://github.com/AngersZhuuuu</td>\n",
              "      <td>https://api.github.com/users/AngersZhuuuu/foll...</td>\n",
              "      <td>https://api.github.com/users/AngersZhuuuu/foll...</td>\n",
              "      <td>https://api.github.com/users/AngersZhuuuu/gist...</td>\n",
              "      <td>https://api.github.com/users/AngersZhuuuu/star...</td>\n",
              "      <td>https://api.github.com/users/AngersZhuuuu/subs...</td>\n",
              "      <td>https://api.github.com/users/AngersZhuuuu/orgs</td>\n",
              "      <td>https://api.github.com/users/AngersZhuuuu/repos</td>\n",
              "      <td>https://api.github.com/users/AngersZhuuuu/even...</td>\n",
              "      <td>https://api.github.com/users/AngersZhuuuu/rece...</td>\n",
              "      <td>User</td>\n",
              "      <td>False</td>\n",
              "      <td>maropu</td>\n",
              "      <td>692303.0</td>\n",
              "      <td>MDQ6VXNlcjY5MjMwMw==</td>\n",
              "      <td>https://avatars.githubusercontent.com/u/692303...</td>\n",
              "      <td></td>\n",
              "      <td>https://api.github.com/users/maropu</td>\n",
              "      <td>https://github.com/maropu</td>\n",
              "      <td>https://api.github.com/users/maropu/followers</td>\n",
              "      <td>https://api.github.com/users/maropu/following{...</td>\n",
              "      <td>https://api.github.com/users/maropu/gists{/gis...</td>\n",
              "      <td>https://api.github.com/users/maropu/starred{/o...</td>\n",
              "      <td>https://api.github.com/users/maropu/subscriptions</td>\n",
              "      <td>https://api.github.com/users/maropu/orgs</td>\n",
              "      <td>https://api.github.com/users/maropu/repos</td>\n",
              "      <td>https://api.github.com/users/maropu/events{/pr...</td>\n",
              "      <td>https://api.github.com/users/maropu/received_e...</td>\n",
              "      <td>User</td>\n",
              "      <td>False</td>\n",
              "      <td>NaN</td>\n",
              "      <td>NaN</td>\n",
              "    </tr>\n",
              "    <tr>\n",
              "      <th>3</th>\n",
              "      <td>9af338cd685bce26abbc2dd4d077bde5068157b1</td>\n",
              "      <td>MDY6Q29tbWl0MTcxNjU2NTg6OWFmMzM4Y2Q2ODViY2UyNm...</td>\n",
              "      <td>https://api.github.com/repos/apache/spark/comm...</td>\n",
              "      <td>https://github.com/apache/spark/commit/9af338c...</td>\n",
              "      <td>https://api.github.com/repos/apache/spark/comm...</td>\n",
              "      <td>[{'sha': 'fdccd88c2a6dd18c9d446b63fccd5c6188ea...</td>\n",
              "      <td>spark</td>\n",
              "      <td>apache</td>\n",
              "      <td>Yingyi Bu</td>\n",
              "      <td>yingyi.bu@databricks.com</td>\n",
              "      <td>2021-04-23T08:33:58Z</td>\n",
              "      <td>Gengliang Wang</td>\n",
              "      <td>ltnwgl@gmail.com</td>\n",
              "      <td>2021-04-23T08:33:58Z</td>\n",
              "      <td>[SPARK-35078][SQL] Add tree traversal pruning ...</td>\n",
              "      <td>87d1570a1e103c5d1f72ffc5ce07150f16ae9ef4</td>\n",
              "      <td>https://api.github.com/repos/apache/spark/git/...</td>\n",
              "      <td>https://api.github.com/repos/apache/spark/git/...</td>\n",
              "      <td>0</td>\n",
              "      <td>False</td>\n",
              "      <td>unsigned</td>\n",
              "      <td>None</td>\n",
              "      <td>None</td>\n",
              "      <td>sigmod</td>\n",
              "      <td>384788.0</td>\n",
              "      <td>MDQ6VXNlcjM4NDc4OA==</td>\n",
              "      <td>https://avatars.githubusercontent.com/u/384788...</td>\n",
              "      <td></td>\n",
              "      <td>https://api.github.com/users/sigmod</td>\n",
              "      <td>https://github.com/sigmod</td>\n",
              "      <td>https://api.github.com/users/sigmod/followers</td>\n",
              "      <td>https://api.github.com/users/sigmod/following{...</td>\n",
              "      <td>https://api.github.com/users/sigmod/gists{/gis...</td>\n",
              "      <td>https://api.github.com/users/sigmod/starred{/o...</td>\n",
              "      <td>https://api.github.com/users/sigmod/subscriptions</td>\n",
              "      <td>https://api.github.com/users/sigmod/orgs</td>\n",
              "      <td>https://api.github.com/users/sigmod/repos</td>\n",
              "      <td>https://api.github.com/users/sigmod/events{/pr...</td>\n",
              "      <td>https://api.github.com/users/sigmod/received_e...</td>\n",
              "      <td>User</td>\n",
              "      <td>False</td>\n",
              "      <td>gengliangwang</td>\n",
              "      <td>1097932.0</td>\n",
              "      <td>MDQ6VXNlcjEwOTc5MzI=</td>\n",
              "      <td>https://avatars.githubusercontent.com/u/109793...</td>\n",
              "      <td></td>\n",
              "      <td>https://api.github.com/users/gengliangwang</td>\n",
              "      <td>https://github.com/gengliangwang</td>\n",
              "      <td>https://api.github.com/users/gengliangwang/fol...</td>\n",
              "      <td>https://api.github.com/users/gengliangwang/fol...</td>\n",
              "      <td>https://api.github.com/users/gengliangwang/gis...</td>\n",
              "      <td>https://api.github.com/users/gengliangwang/sta...</td>\n",
              "      <td>https://api.github.com/users/gengliangwang/sub...</td>\n",
              "      <td>https://api.github.com/users/gengliangwang/orgs</td>\n",
              "      <td>https://api.github.com/users/gengliangwang/repos</td>\n",
              "      <td>https://api.github.com/users/gengliangwang/eve...</td>\n",
              "      <td>https://api.github.com/users/gengliangwang/rec...</td>\n",
              "      <td>User</td>\n",
              "      <td>False</td>\n",
              "      <td>NaN</td>\n",
              "      <td>NaN</td>\n",
              "    </tr>\n",
              "    <tr>\n",
              "      <th>4</th>\n",
              "      <td>fdccd88c2a6dd18c9d446b63fccd5c6188ea125c</td>\n",
              "      <td>MDY6Q29tbWl0MTcxNjU2NTg6ZmRjY2Q4OGMyYTZkZDE4Yz...</td>\n",
              "      <td>https://api.github.com/repos/apache/spark/comm...</td>\n",
              "      <td>https://github.com/apache/spark/commit/fdccd88...</td>\n",
              "      <td>https://api.github.com/repos/apache/spark/comm...</td>\n",
              "      <td>[{'sha': '20d68dc2f47ea592ecd9ef708167a69bb1c5...</td>\n",
              "      <td>spark</td>\n",
              "      <td>apache</td>\n",
              "      <td>Wenchen Fan</td>\n",
              "      <td>wenchen@databricks.com</td>\n",
              "      <td>2021-04-23T07:55:30Z</td>\n",
              "      <td>Wenchen Fan</td>\n",
              "      <td>wenchen@databricks.com</td>\n",
              "      <td>2021-04-23T07:55:30Z</td>\n",
              "      <td>Revert \"[SPARK-34581][SQL] Don't optimize out ...</td>\n",
              "      <td>438e773bc01e0b2cc6374f2d5be17e1ce7e848a8</td>\n",
              "      <td>https://api.github.com/repos/apache/spark/git/...</td>\n",
              "      <td>https://api.github.com/repos/apache/spark/git/...</td>\n",
              "      <td>0</td>\n",
              "      <td>False</td>\n",
              "      <td>unsigned</td>\n",
              "      <td>None</td>\n",
              "      <td>None</td>\n",
              "      <td>cloud-fan</td>\n",
              "      <td>3182036.0</td>\n",
              "      <td>MDQ6VXNlcjMxODIwMzY=</td>\n",
              "      <td>https://avatars.githubusercontent.com/u/318203...</td>\n",
              "      <td></td>\n",
              "      <td>https://api.github.com/users/cloud-fan</td>\n",
              "      <td>https://github.com/cloud-fan</td>\n",
              "      <td>https://api.github.com/users/cloud-fan/followers</td>\n",
              "      <td>https://api.github.com/users/cloud-fan/followi...</td>\n",
              "      <td>https://api.github.com/users/cloud-fan/gists{/...</td>\n",
              "      <td>https://api.github.com/users/cloud-fan/starred...</td>\n",
              "      <td>https://api.github.com/users/cloud-fan/subscri...</td>\n",
              "      <td>https://api.github.com/users/cloud-fan/orgs</td>\n",
              "      <td>https://api.github.com/users/cloud-fan/repos</td>\n",
              "      <td>https://api.github.com/users/cloud-fan/events{...</td>\n",
              "      <td>https://api.github.com/users/cloud-fan/receive...</td>\n",
              "      <td>User</td>\n",
              "      <td>False</td>\n",
              "      <td>cloud-fan</td>\n",
              "      <td>3182036.0</td>\n",
              "      <td>MDQ6VXNlcjMxODIwMzY=</td>\n",
              "      <td>https://avatars.githubusercontent.com/u/318203...</td>\n",
              "      <td></td>\n",
              "      <td>https://api.github.com/users/cloud-fan</td>\n",
              "      <td>https://github.com/cloud-fan</td>\n",
              "      <td>https://api.github.com/users/cloud-fan/followers</td>\n",
              "      <td>https://api.github.com/users/cloud-fan/followi...</td>\n",
              "      <td>https://api.github.com/users/cloud-fan/gists{/...</td>\n",
              "      <td>https://api.github.com/users/cloud-fan/starred...</td>\n",
              "      <td>https://api.github.com/users/cloud-fan/subscri...</td>\n",
              "      <td>https://api.github.com/users/cloud-fan/orgs</td>\n",
              "      <td>https://api.github.com/users/cloud-fan/repos</td>\n",
              "      <td>https://api.github.com/users/cloud-fan/events{...</td>\n",
              "      <td>https://api.github.com/users/cloud-fan/receive...</td>\n",
              "      <td>User</td>\n",
              "      <td>False</td>\n",
              "      <td>NaN</td>\n",
              "      <td>NaN</td>\n",
              "    </tr>\n",
              "  </tbody>\n",
              "</table>\n",
              "</div>"
            ],
            "text/plain": [
              "                                        sha  ... author\n",
              "0  b2a2b5d8206b7c09b180b8b6363f73c6c3fdb1d8  ...    NaN\n",
              "1  a9345a05911b8620387b36023ddc6525ed1a508c  ...    NaN\n",
              "2  e503b9c462676c381ba51ad48edd968d6e184fc2  ...    NaN\n",
              "3  9af338cd685bce26abbc2dd4d077bde5068157b1  ...    NaN\n",
              "4  fdccd88c2a6dd18c9d446b63fccd5c6188ea125c  ...    NaN\n",
              "\n",
              "[5 rows x 61 columns]"
            ]
          },
          "metadata": {
            "tags": []
          },
          "execution_count": 47
        }
      ]
    },
    {
      "cell_type": "code",
      "metadata": {
        "colab": {
          "base_uri": "https://localhost:8080/"
        },
        "id": "lILtB2PTJXbn",
        "outputId": "c0bdd13d-c931-4203-b195-a56e53b70f88"
      },
      "source": [
        "commits_df.shape"
      ],
      "execution_count": 50,
      "outputs": [
        {
          "output_type": "execute_result",
          "data": {
            "text/plain": [
              "(29895, 61)"
            ]
          },
          "metadata": {
            "tags": []
          },
          "execution_count": 50
        }
      ]
    }
  ]
}